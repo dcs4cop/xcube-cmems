{
 "cells": [
  {
   "cell_type": "markdown",
   "id": "2a21bb12-f387-4634-91cd-4ff55e5d0c72",
   "metadata": {},
   "source": [
    "_This NP is developed and in use for experiments with pydap by forman (25.08.2022).\n",
    "please do not change it without a PR or better create a copy._\n",
    "\n",
    "---"
   ]
  },
  {
   "cell_type": "markdown",
   "id": "9b5c5382-64e4-4ef7-9de1-990fb9ec41cf",
   "metadata": {},
   "source": [
    "**Important note:** The pydap API objects *are not serializable*. \n",
    "Hence it seems not possible to use Dask in distributed mode."
   ]
  },
  {
   "cell_type": "code",
   "execution_count": 1,
   "id": "b621acc8-0166-4871-8842-a8aef5109b0c",
   "metadata": {},
   "outputs": [
    {
     "data": {
      "text/plain": [
       "<dask.config.set at 0x1f611cfa580>"
      ]
     },
     "execution_count": 1,
     "metadata": {},
     "output_type": "execute_result"
    }
   ],
   "source": [
    "import dask\n",
    "dask.config.set(scheduler='threads')\n",
    "\n",
    "# Fails later:\n",
    "# dask.config.set(scheduler='processes')\n",
    "\n",
    "# Fails later:\n",
    "# from distributed import Cluster()\n",
    "# client = Cluster()"
   ]
  },
  {
   "cell_type": "code",
   "execution_count": 2,
   "id": "5d800c31-b19a-4a18-9cd2-98599e3ffd6a",
   "metadata": {},
   "outputs": [],
   "source": [
    "import json\n",
    "\n",
    "# needs PyDAP >= v3.3.0 see https://github.com/pydap/pydap/pull/223/commits\n",
    "import pydap.client \n",
    "import pydap.cas.get_cookies"
   ]
  },
  {
   "cell_type": "markdown",
   "id": "8f3b41ec-a109-4fb7-8f5b-a297826bb2c4",
   "metadata": {},
   "source": [
    "Following code is borrowed from https://help.marine.copernicus.eu/en/articles/5182598-how-to-consume-the-opendap-api-and-cas-sso-using-python.\n",
    "\n",
    "But note, we do not use the `xr.backends.PydapDataStore` as in the example."
   ]
  },
  {
   "cell_type": "code",
   "execution_count": 3,
   "id": "5d2336b4-d225-4239-9bba-4f111a2ed0d1",
   "metadata": {},
   "outputs": [],
   "source": [
    "def open_copernicus_marine_pydap_dataset(dataset_id, username, password):\n",
    "    cas_url = 'https://cmems-cas.cls.fr/cas/login'\n",
    "    session = pydap.cas.get_cookies.setup_session(cas_url, username, password)\n",
    "    session.cookies.set(\"CASTGC\", session.cookies.get_dict()['CASTGC'])\n",
    "    open_url_kwargs = dict(\n",
    "        session=session,\n",
    "        user_charset='utf-8', # CMEMS-specific\n",
    "        output_grid=False     # retrieve only main arrays and never retrieve coordinate axes\n",
    "    )\n",
    "    try:\n",
    "        url = f'https://my.cmems-du.eu/thredds/dodsC/{dataset_id}'\n",
    "        pyd_dataset = pydap.client.open_url(url, **open_url_kwargs) \n",
    "    except:\n",
    "        url = f'https://nrt.cmems-du.eu/thredds/dodsC/{dataset_id}'\n",
    "        pyd_dataset = pydap.client.open_url(url, **open_url_kwargs) \n",
    "    return url, pyd_dataset"
   ]
  },
  {
   "cell_type": "code",
   "execution_count": 4,
   "id": "7325601e-6876-452b-80d4-119cb8c755b6",
   "metadata": {},
   "outputs": [],
   "source": [
    "dataset_id = \"dataset-bal-analysis-forecast-wav-hourly\"\n",
    "\n",
    "with open(\"cmems-credentials.json\") as fp:\n",
    "    credentials = json.load(fp)\n",
    "    username, password = credentials[\"username\"], credentials[\"password\"]"
   ]
  },
  {
   "cell_type": "code",
   "execution_count": 5,
   "id": "f0edf28a-ca46-4ccc-8591-e9d2eb2456f2",
   "metadata": {},
   "outputs": [],
   "source": [
    "url, pyd_dataset = open_copernicus_marine_pydap_dataset(dataset_id, username, password)"
   ]
  },
  {
   "cell_type": "code",
   "execution_count": 6,
   "id": "697beba0-9fc8-422c-bd27-b2cda3cb52d8",
   "metadata": {},
   "outputs": [
    {
     "data": {
      "text/plain": [
       "'https://nrt.cmems-du.eu/thredds/dodsC/dataset-bal-analysis-forecast-wav-hourly'"
      ]
     },
     "execution_count": 6,
     "metadata": {},
     "output_type": "execute_result"
    }
   ],
   "source": [
    "url"
   ]
  },
  {
   "cell_type": "markdown",
   "id": "98ddcd4c-847f-41ae-83b2-2352c4b57a6f",
   "metadata": {},
   "source": [
    "Let's inspect the returned pydap dataset.\n",
    "See also https://www.pydap.org/en/latest/client.html#accessing-gridded-data!"
   ]
  },
  {
   "cell_type": "code",
   "execution_count": 7,
   "id": "68d02440-220d-4205-ae14-23dc9bad3559",
   "metadata": {},
   "outputs": [
    {
     "data": {
      "text/plain": [
       "<DatasetType with children 'lat', 'lon', 'time', 'VHM0', 'VTPK', 'VTM10', 'VTM02', 'VMDR', 'VHM0_WW', 'VTM01_WW', 'VMDR_WW', 'VPED', 'VHM0_SW1', 'VTM01_SW1', 'VMDR_SW1', 'VHM0_SW2', 'VTM01_SW2', 'VMDR_SW2', 'VSDX', 'VSDY'>"
      ]
     },
     "execution_count": 7,
     "metadata": {},
     "output_type": "execute_result"
    }
   ],
   "source": [
    "pyd_dataset"
   ]
  },
  {
   "cell_type": "code",
   "execution_count": 8,
   "id": "b2291562-3ee7-4757-b7b5-7dc54ff47d36",
   "metadata": {},
   "outputs": [
    {
     "data": {
      "text/plain": [
       "{'NC_GLOBAL': {'Conventions': 'CF-1.0',\n",
       "  'source': 'FMI-WAM_CMEMS',\n",
       "  'institution': 'Baltic MFC, PU Finnish Meteorological Institute',\n",
       "  'title': 'CMEMS WAM model fields (hourly)',\n",
       "  'cmems_product_id': 'BALTICSEA_ANALYSISFORECAST_WAV_003_010',\n",
       "  'westernmost_longitude': '9.0138',\n",
       "  'easternmost_longitude': '30.2080',\n",
       "  'southernmost_latitude': '53.0083',\n",
       "  'northernmost_latitude': '65.9081',\n",
       "  'grid_resolution': '1 nautical mile (ie. 0.0167 degrees northward; 0.0278 degrees eastward'},\n",
       " 'DODS_EXTRA': {}}"
      ]
     },
     "execution_count": 8,
     "metadata": {},
     "output_type": "execute_result"
    }
   ],
   "source": [
    "pyd_dataset.attributes"
   ]
  },
  {
   "cell_type": "code",
   "execution_count": 9,
   "id": "81dfdae0-7204-44cd-8950-e72efbc5cea3",
   "metadata": {},
   "outputs": [],
   "source": [
    "global_attrs = dict(pyd_dataset.attributes.get('NC_GLOBAL') or {})\n",
    "global_attrs[\"dataset_url\"] = url"
   ]
  },
  {
   "cell_type": "code",
   "execution_count": 10,
   "id": "794f9462-24c0-416f-99ba-2f84f2dc4f33",
   "metadata": {},
   "outputs": [
    {
     "data": {
      "text/plain": [
       "<BaseType with data BaseProxy('https://nrt.cmems-du.eu/thredds/dodsC/dataset-bal-analysis-forecast-wav-hourly', 'lat', dtype('>f4'), (775,), (slice(None, None, None),))>"
      ]
     },
     "execution_count": 10,
     "metadata": {},
     "output_type": "execute_result"
    }
   ],
   "source": [
    "pyd_dataset.lat"
   ]
  },
  {
   "cell_type": "code",
   "execution_count": 11,
   "id": "f3bfe201-3b9b-4c47-b534-b9564e67e9c8",
   "metadata": {},
   "outputs": [
    {
     "data": {
      "text/plain": [
       "<BaseType with data array([9.013887 , 9.041664 , 9.069442 , 9.0972185, 9.124995 , 9.152772 ,\n",
       "       9.18055  , 9.208326 , 9.236103 , 9.263881 ], dtype=float32)>"
      ]
     },
     "execution_count": 11,
     "metadata": {},
     "output_type": "execute_result"
    }
   ],
   "source": [
    "pyd_dataset.lon[0:10]"
   ]
  },
  {
   "cell_type": "code",
   "execution_count": 12,
   "id": "a5344943-8ccc-4ee4-8756-d621c230425c",
   "metadata": {},
   "outputs": [
    {
     "data": {
      "text/plain": [
       "<BaseType with data array([53.00829 , 53.024956, 53.041622, 53.05829 , 53.074955, 53.091618,\n",
       "       53.108284, 53.12495 , 53.141617, 53.158283], dtype=float32)>"
      ]
     },
     "execution_count": 12,
     "metadata": {},
     "output_type": "execute_result"
    }
   ],
   "source": [
    "pyd_dataset.lat[0:10]"
   ]
  },
  {
   "cell_type": "code",
   "execution_count": 13,
   "id": "00d8036f-51cd-4ac4-8584-afabc3ebfbc6",
   "metadata": {},
   "outputs": [
    {
     "data": {
      "text/plain": [
       "{'standard_name': 'time',\n",
       " 'long_name': 'time',\n",
       " 'units': 'seconds since 1970-01-01 00:00:00',\n",
       " 'calendar': 'standard',\n",
       " '_ChunkSizes': 1024}"
      ]
     },
     "execution_count": 13,
     "metadata": {},
     "output_type": "execute_result"
    }
   ],
   "source": [
    "pyd_dataset.time.attributes"
   ]
  },
  {
   "cell_type": "code",
   "execution_count": 14,
   "id": "10dcf3ae-b787-4022-87e2-9daca7b4fe77",
   "metadata": {},
   "outputs": [
    {
     "data": {
      "text/plain": [
       "<BaseType with data array([1.5436260e+09, 1.5436296e+09, 1.5436332e+09, 1.5436368e+09,\n",
       "       1.5436404e+09, 1.5436440e+09, 1.5436476e+09, 1.5436512e+09,\n",
       "       1.5436548e+09, 1.5436584e+09])>"
      ]
     },
     "execution_count": 14,
     "metadata": {},
     "output_type": "execute_result"
    }
   ],
   "source": [
    "pyd_dataset.time[0:10]"
   ]
  },
  {
   "cell_type": "code",
   "execution_count": 15,
   "id": "b91e55c4-b109-46be-98e3-01a711a142eb",
   "metadata": {},
   "outputs": [],
   "source": [
    "# This will lead to error \"ValueError: buffer size must be a multiple of element size\"\n",
    "# pyd_dataset.VMDR[100, 300:310, 400:410]"
   ]
  },
  {
   "cell_type": "code",
   "execution_count": 16,
   "id": "1daa78d9-ca9e-422c-82a9-323887c2b724",
   "metadata": {},
   "outputs": [
    {
     "data": {
      "text/plain": [
       "<BaseType with data array([[[288.4607 , 287.9629 , 287.48666, 287.14572, 286.95096,\n",
       "         286.83032, 286.69336, 286.45355, 286.07428, 285.66483],\n",
       "        [287.7408 , 287.30734, 286.90234, 286.57925, 286.3968 ,\n",
       "         286.31995, 286.24457, 286.14514, 285.93735, 285.63608],\n",
       "        [287.04715, 286.70847, 286.34885, 285.9923 , 285.80377,\n",
       "         285.74606, 285.71646, 285.67203, 285.55933, 285.33994],\n",
       "        [286.47977, 286.2102 , 285.9278 , 285.59164, 285.406  ,\n",
       "         285.34613, 285.3402 , 285.33102, 285.29425, 285.14996],\n",
       "        [285.98584, 285.79605, 285.61185, 285.3545 , 285.19272,\n",
       "         285.16455, 285.20557, 285.2506 , 285.24893, 285.14148],\n",
       "        [285.5887 , 285.49182, 285.4014 , 285.2549 , 285.10303,\n",
       "         285.0756 , 285.1475 , 285.23065, 285.2389 , 285.16354],\n",
       "        [285.2081 , 285.19907, 285.1952 , 285.09195, 284.92102,\n",
       "         284.864  , 284.9512 , 285.06113, 285.09802, 285.05173],\n",
       "        [284.84332, 284.87265, 284.91058, 284.80957, 284.65436,\n",
       "         284.5917 , 284.66327, 284.759  , 284.80948, 284.74664],\n",
       "        [284.57596, 284.61884, 284.65955, 284.5727 , 284.44046,\n",
       "         284.36002, 284.3768 , 284.41248, 284.42432, 284.31754],\n",
       "        [284.35135, 284.37988, 284.3863 , 284.3263 , 284.21466,\n",
       "         284.11642, 284.07697, 284.04605, 284.00272, 283.84576]]],\n",
       "      dtype=float32)>"
      ]
     },
     "execution_count": 16,
     "metadata": {},
     "output_type": "execute_result"
    }
   ],
   "source": [
    "pyd_dataset.VMDR.array[100, 300:310, 400:410]"
   ]
  },
  {
   "cell_type": "markdown",
   "id": "070a78c6-fc83-4a1a-8dfa-3e6eca7011b2",
   "metadata": {},
   "source": [
    "---\n",
    "\n",
    "Test as xarray backend first:"
   ]
  },
  {
   "cell_type": "code",
   "execution_count": 17,
   "id": "c176ab38-f8b4-4961-a65e-968848e2f494",
   "metadata": {},
   "outputs": [],
   "source": [
    "import xarray as xr \n",
    "\n",
    "# xr_dataset = xr.open_dataset(xr.backends.PydapDataStore(pyd_dataset))\n",
    "# xr_dataset\n",
    "\n",
    "# It doesn't work - we get \n",
    "#\n",
    "# Error {\n",
    "#    code = 403;\n",
    "#    message = \"Request too big=77929.8336 Mbytes, max=1500.0\";\n",
    "# };"
   ]
  },
  {
   "cell_type": "code",
   "execution_count": 18,
   "id": "2af676fe-f0b1-4642-bddf-b0724e26abdd",
   "metadata": {},
   "outputs": [],
   "source": [
    "# xr_dataset.VHM0"
   ]
  },
  {
   "cell_type": "code",
   "execution_count": 19,
   "id": "d78d5085-cdd8-41d7-9ef7-13740f7943d1",
   "metadata": {},
   "outputs": [],
   "source": [
    "# xr_dataset.VHM0[0].plot()"
   ]
  },
  {
   "cell_type": "markdown",
   "id": "d45a62a5-6742-48e4-8e94-aaadc037e6eb",
   "metadata": {},
   "source": [
    "---\n",
    "\n",
    "We now know enough to setup our own Zarr store:"
   ]
  },
  {
   "cell_type": "code",
   "execution_count": 20,
   "id": "8c1f6569-fba8-4afc-b90a-3b3e31eab11b",
   "metadata": {},
   "outputs": [],
   "source": [
    "from typing import List\n",
    "\n",
    "import numpy as np\n",
    "import xarray as xr\n",
    "import zarr\n",
    "\n",
    "from xcube.core.zarrstore import GenericArrayInfo\n",
    "from xcube.core.zarrstore import GenericZarrStore"
   ]
  },
  {
   "cell_type": "code",
   "execution_count": 21,
   "id": "80a6057e-47dc-497a-872f-55955ccf5e8a",
   "metadata": {},
   "outputs": [],
   "source": [
    "\n",
    "def get_data(chunk_index, pyd_var=None, chunk_info=None, array_info=None):\n",
    "    array_name = array_info[\"name\"]        \n",
    "    array_slices = chunk_info[\"slices\"]        \n",
    "    display(f\"Fetching {array_name} for chunk {chunk_index} at {array_slices}\")\n",
    "\n",
    "    # Actual pydap data access\n",
    "    if hasattr(pyd_var, \"array\"):\n",
    "        data = pyd_var.array[array_slices]\n",
    "    else:\n",
    "        data = pyd_var[array_slices]\n",
    "    return np.array(data)\n",
    "\n",
    "\n",
    "def get_array_infos(pyd_dataset) -> List[GenericArrayInfo]:\n",
    "    \"\"\"Get the list of array infos from the list of pydap \n",
    "    variables in *pyd_dataset*.\n",
    "    \"\"\"\n",
    "    array_infos = []\n",
    "    for name, pyd_var in pyd_dataset.items():\n",
    "        attrs = dict(pyd_var.attributes)\n",
    "        # Note, it seems that there is no advantage in using the \n",
    "        # _ChunkSizes which come from original NetCDF files.\n",
    "        # Users should specify the desired chunksizes on their own.\n",
    "        # For example, coordinate arrays should not be chunked at all!\n",
    "        chunks = attrs.pop(\"_ChunkSizes\", None)\n",
    "        chunks = (chunks,) if isinstance(chunks, int) else \\\n",
    "            tuple(chunks) if chunks is not None else None\n",
    "        fill_value = attrs.pop(\"_FillValue\", None)\n",
    "        array_info = GenericArrayInfo(\n",
    "            name=name,\n",
    "            dtype=pyd_var.dtype.str,\n",
    "            dims=pyd_var.dimensions,\n",
    "            shape=pyd_var.shape,\n",
    "            chunks=chunks,\n",
    "            fill_value=fill_value,\n",
    "            get_data=get_data,\n",
    "            get_data_params=dict(pyd_var=pyd_var),\n",
    "            attrs=attrs,\n",
    "            compressor=None,\n",
    "            chunk_encoding=\"ndarray\",\n",
    "        )\n",
    "        array_infos.append(array_info)\n",
    "    return array_infos\n"
   ]
  },
  {
   "cell_type": "code",
   "execution_count": 22,
   "id": "b8d4b627-aeae-459e-911c-ab5755fad595",
   "metadata": {},
   "outputs": [],
   "source": [
    "array_infos = get_array_infos(pyd_dataset)\n",
    "\n",
    "# Uncomment to see the effect of chunked time --> many slow requests\n",
    "for array_info in array_infos:\n",
    "    if array_info[\"name\"] == \"time\":\n",
    "        del array_info[\"chunks\"]"
   ]
  },
  {
   "cell_type": "code",
   "execution_count": 23,
   "id": "5cc10a99-bb21-4768-801a-27836f5cd7a6",
   "metadata": {},
   "outputs": [
    {
     "ename": "NameError",
     "evalue": "name 'GenericArrayZarrStore' is not defined",
     "output_type": "error",
     "traceback": [
      "\u001b[1;31m--------------------------------------------------------------------------\u001b[0m",
      "\u001b[1;31mNameError\u001b[0m                                Traceback (most recent call last)",
      "Input \u001b[1;32mIn [23]\u001b[0m, in \u001b[0;36m<cell line: 1>\u001b[1;34m()\u001b[0m\n\u001b[1;32m----> 1\u001b[0m zarr_store \u001b[38;5;241m=\u001b[39m \u001b[43mGenericArrayZarrStore\u001b[49m(\u001b[38;5;241m*\u001b[39marray_infos, attrs\u001b[38;5;241m=\u001b[39mglobal_attrs)\n",
      "\u001b[1;31mNameError\u001b[0m: name 'GenericArrayZarrStore' is not defined"
     ]
    }
   ],
   "source": [
    "zarr_store = GenericArrayZarrStore(*array_infos, attrs=global_attrs)"
   ]
  },
  {
   "cell_type": "markdown",
   "id": "585dc132-202c-4cc7-920b-21a0a0b547c2",
   "metadata": {},
   "source": [
    "Because the arrays of `GenericArrayZarrStore` are really generic and do not cache any data, \n",
    "we wrap it into a LRU cache to avoid fetching coordinate arrays and the like multiple times."
   ]
  },
  {
   "cell_type": "code",
   "execution_count": null,
   "id": "9d5cc60d-a5a2-48df-bed1-d2debf98b1f5",
   "metadata": {},
   "outputs": [],
   "source": [
    "zarr_store = zarr.LRUStoreCache(zarr_store, max_size=2**28)"
   ]
  },
  {
   "cell_type": "code",
   "execution_count": null,
   "id": "90fedece-2f95-4694-a9df-1c5a785b4522",
   "metadata": {},
   "outputs": [],
   "source": [
    "xr_dataset = xr.open_zarr(zarr_store)\n",
    "xr_dataset"
   ]
  },
  {
   "cell_type": "code",
   "execution_count": null,
   "id": "b428d11b-680f-4b3e-81ef-3e2cd788e49b",
   "metadata": {},
   "outputs": [],
   "source": [
    "xr_dataset.VHM0"
   ]
  },
  {
   "cell_type": "code",
   "execution_count": null,
   "id": "67595385-5a55-494a-8436-7df1a1616d39",
   "metadata": {},
   "outputs": [],
   "source": [
    "xr_dataset.VHM0[0].plot()"
   ]
  },
  {
   "cell_type": "markdown",
   "id": "a3e5cad3-18ba-49c5-b9ac-e93f54d0d9c1",
   "metadata": {},
   "source": [
    "---\n",
    "\n",
    "Check out\n",
    "* https://www.earthdata.nasa.gov/engage/open-data-services-and-software/api/opendap\n",
    "* https://docs.opendap.org/index.php?title=DAP4_Specification\n",
    "* https://pythondig.com/r/arrdap-is-a-fastapi-project-that-provides-access-to-zarr-and-netcdf-data-in-remote-object-storage-using-the-opensource-project-for-a-network-data-acc"
   ]
  },
  {
   "cell_type": "code",
   "execution_count": null,
   "id": "ac24a6d4-2e64-44d6-a2c0-5c20aa58afcc",
   "metadata": {},
   "outputs": [],
   "source": []
  }
 ],
 "metadata": {
  "kernelspec": {
   "display_name": "Python 3 (ipykernel)",
   "language": "python",
   "name": "python3"
  },
  "language_info": {
   "codemirror_mode": {
    "name": "ipython",
    "version": 3
   },
   "file_extension": ".py",
   "mimetype": "text/x-python",
   "name": "python",
   "nbconvert_exporter": "python",
   "pygments_lexer": "ipython3",
   "version": "3.9.13"
  }
 },
 "nbformat": 4,
 "nbformat_minor": 5
}
